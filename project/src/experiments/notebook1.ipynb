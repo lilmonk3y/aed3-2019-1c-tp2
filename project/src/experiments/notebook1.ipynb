{
 "cells": [
  {
   "cell_type": "code",
   "execution_count": 76,
   "metadata": {
    "scrolled": true
   },
   "outputs": [
    {
     "name": "stdout",
     "output_type": "stream",
     "text": [
      "      n   m        bf        fw         dp        df\n",
      "0     5   7   3.61658   838.107    53.8078   3.17169\n",
      "1     5   7   2.37686   833.918    53.7945   3.15773\n",
      "2     5   7   2.38752   839.246    53.8307   3.16436\n",
      "3     5   7   2.37417   834.807    53.7545   3.16521\n",
      "4     5   7   2.38672   834.173    53.7854   3.15500\n",
      "5     5   7   2.37505   834.054    53.9158   3.15780\n",
      "6     5   7   2.39031   833.592    53.7982   3.17195\n",
      "7     5   7   2.38166   834.552    53.8778   3.15163\n",
      "8     5   7   2.37029   833.649    53.7128   3.15684\n",
      "9     5   7   2.37693   833.979    53.6237   3.15711\n",
      "10    5   7   2.38151   835.609    56.0106   3.32546\n",
      "11    5   7   2.40197   847.239    55.0845   3.83551\n",
      "12    5   7   2.82888   854.905    54.2524   3.18040\n",
      "13    5   7   2.44752   865.140    60.8769   3.44172\n",
      "14    5   7   2.48260   845.576    54.5150   3.16509\n",
      "15    5   7   2.39423   843.179    53.9825   3.17190\n",
      "16    5   7   2.40189   851.827    55.0960   3.31496\n",
      "17    5   7   2.46238   850.369    54.2254   3.16528\n",
      "18    5   7   2.38666   839.238    53.7463   3.15367\n",
      "19    5   7   2.38917   853.789    56.3270   3.18880\n",
      "20    5   8   3.57275   877.691   106.3450   6.46638\n",
      "21    5   8   3.47810   880.787   106.5100   6.75614\n",
      "22    5   8   3.54170   874.773   103.4600   6.40110\n",
      "23    5   8   3.40678   868.239   103.5370   6.32620\n",
      "24    5   8   3.40216   881.092   103.6810   6.40355\n",
      "25    5   8   3.38617   865.588   104.2050   6.37988\n",
      "26    5   8   3.45339   865.195   103.8230   6.32077\n",
      "27    5   8   3.38828   859.499   103.5550   6.32462\n",
      "28    5   8   3.39386   858.092   103.7330   6.32874\n",
      "29    5   8   3.38537   862.166   104.2000   6.32829\n",
      "..   ..  ..       ...       ...        ...       ...\n",
      "399   5  10   3.56320   884.186   102.0660   5.61392\n",
      "400   5   8   5.29577   873.384   213.9420   8.75390\n",
      "401   5   8   5.25969   883.975   215.1930   8.93760\n",
      "402   5   8   5.40697   888.737   215.1130   8.87366\n",
      "403   5   8   5.56103   881.087   214.2460   8.80131\n",
      "404   5   8   5.28233   879.664   214.1410   8.77252\n",
      "405   5   8   5.30147   877.459   214.6840   8.76652\n",
      "406   5   8   5.34446   879.112   216.2520   8.84788\n",
      "407   5   8   5.27505   907.797   216.2720   8.91986\n",
      "408   5   8   5.42921   891.866   217.2910   8.97977\n",
      "409   5   8   5.32762   894.270   220.7430   9.35541\n",
      "410   5   8   5.37817   891.311   214.1520   8.80337\n",
      "411   5   8   5.51627   878.001   214.0100   8.78065\n",
      "412   5   8   5.34411   876.955   213.9940   8.71171\n",
      "413   5   8   5.36285   876.597   213.6770   8.74639\n",
      "414   5   8   5.29011   876.405   213.6690   8.84817\n",
      "415   5   8   5.29914   876.542   214.2520   8.72516\n",
      "416   5   8   5.33038   876.354   213.9170   8.74876\n",
      "417   5   8   5.29313   892.849   215.8220   9.19166\n",
      "418   5   8   5.33132   882.500   215.9650  10.36360\n",
      "419   5   8   5.29827   885.959   215.6860   8.91051\n",
      "420  10  38  53.10180  6996.440  1333.5700  66.38740\n",
      "421  10  38  49.62750  7044.320  1345.2200  66.73690\n",
      "422  10  38  50.41300  7097.060  1377.0400  70.81390\n",
      "423  10  38  52.14600  7089.500  1348.6400  67.37690\n",
      "424  10  38  50.09220  7060.820  1346.3100  67.29700\n",
      "425  10  38  50.19090  7025.220  1344.8700  66.99520\n",
      "426  10  38  49.84200  6987.210  1339.6500  67.06090\n",
      "427  10  38  49.60930  7066.150  1362.1600  67.41650\n",
      "428  10  38  50.38780  7138.960  1358.1000  66.92950\n",
      "\n",
      "[429 rows x 6 columns]\n"
     ]
    }
   ],
   "source": [
    "import pandas as pd\n",
    "import seaborn as sns\n",
    "import matplotlib.pyplot as plt\n",
    "\n",
    "# Se generaron 10 grafos de n vértices para n en [3, 20] saltando de 5 en 5\n",
    "# y con probabilidad 0.75 de que un vértice dado exista.\n",
    "\n",
    "# Luego se corre cada grafo 20 veces para evitar variaciones de tiempos del SO.\n",
    "\n",
    "df = pd.read_csv(\"./salidas/tiempos_salida_grafos_random_20_5_100_5_0.75.csv\") # Creo un dataframe desde el csv\n",
    "#df = df.groupby(\"n\", as_index=False).mean() # Promedio para cada n en milisegundos\n",
    "print(df)"
   ]
  },
  {
   "cell_type": "markdown",
   "metadata": {},
   "source": [
    "# Comparación"
   ]
  },
  {
   "cell_type": "code",
   "execution_count": 19,
   "metadata": {},
   "outputs": [
    {
     "data": {
      "image/png": "[encoded data removed]",
      "text/plain": [
       "<Figure size 432x288 with 1 Axes>"
      ]
     },
     "metadata": {
      "needs_background": "light"
     },
     "output_type": "display_data"
    }
   ],
   "source": [
    "fig = plt.figure()\n",
    "eje_cartesiano = sns.lineplot(x=\"n\", y=\"bf\", data=df);\n",
    "eje_cartesiano = sns.lineplot(x=\"n\", y=\"fw\", data=df);\n",
    "eje_cartesiano = sns.lineplot(x=\"n\", y=\"dp\", data=df);\n",
    "eje_cartesiano = sns.lineplot(x=\"n\", y=\"df\", data=df);\n",
    "\n",
    "eje_cartesiano.set_title(\"Comparación\")\n",
    "plt.ylabel(\"tiempo (ms)\");\n",
    "plt.xlabel(\"cantidad de vértices\");\n",
    "eje_cartesiano.legend([\"Bellman-Ford\", \"Floyd-Warshall\", \"Dijkstra con cola FIFO\", \"Dijkstra con cola de prioridad\"]);"
   ]
  }
 ],
 "metadata": {
  "kernelspec": {
   "display_name": "Python 3",
   "language": "python",
   "name": "python3"
  },
  "language_info": {
   "codemirror_mode": {
    "name": "ipython",
    "version": 3
   },
   "file_extension": ".py",
   "mimetype": "text/x-python",
   "name": "python",
   "nbconvert_exporter": "python",
   "pygments_lexer": "ipython3",
   "version": "3.6.7"
  }
 },
 "nbformat": 4,
 "nbformat_minor": 2
}
